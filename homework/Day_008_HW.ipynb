{
 "cells": [
  {
   "cell_type": "markdown",
   "metadata": {},
   "source": [
    "# [作業目標]\n",
    "- 對資料做更多處理 : 顯示特定欄位的統計值與直方圖"
   ]
  },
  {
   "cell_type": "markdown",
   "metadata": {},
   "source": [
    "# [作業重點]\n",
    "- 試著顯示特定欄位的基礎統計數值 (In[4], Out[4], Hint : describe())\n",
    "- 試著顯示特定欄位的直方圖 (In[5], Out[5], Hint : .hist())"
   ]
  },
  {
   "cell_type": "code",
   "execution_count": 1,
   "metadata": {},
   "outputs": [],
   "source": [
    "# Import 需要的套件\n",
    "import os\n",
    "import numpy as np\n",
    "import pandas as pd\n",
    "\n",
    "# 設定 data_path\n",
    "dir_data = './data/'"
   ]
  },
  {
   "cell_type": "code",
   "execution_count": 2,
   "metadata": {},
   "outputs": [],
   "source": [
    "f_app_train = os.path.join(dir_data, 'application_train.csv')\n",
    "app_train = pd.read_csv(f_app_train)"
   ]
  },
  {
   "cell_type": "code",
   "execution_count": 3,
   "metadata": {},
   "outputs": [],
   "source": [
    "import matplotlib.pyplot as plt\n",
    "%matplotlib inline\n",
    "\n",
    "#有%matplotlib inline這個指令，則可以不用輸入plt.show()\n",
    "#參考網頁https://blog.csdn.net/hohaizx/article/details/79101322"
   ]
  },
  {
   "cell_type": "markdown",
   "metadata": {},
   "source": [
    "## 練習時間"
   ]
  },
  {
   "cell_type": "markdown",
   "metadata": {},
   "source": [
    "觀察有興趣的欄位的資料分佈，並嘗試找出有趣的訊息\n",
    "#### Eg\n",
    "- 計算任意欄位的平均數及標準差\n",
    "- 畫出任意欄位的[直方圖](https://zh.wikipedia.org/zh-tw/%E7%9B%B4%E6%96%B9%E5%9B%BE)\n",
    "\n",
    "### Hints:\n",
    "- [Descriptive Statistics For pandas Dataframe](https://chrisalbon.com/python/data_wrangling/pandas_dataframe_descriptive_stats/)\n",
    "- [pandas 中的繪圖函數](https://amaozhao.gitbooks.io/pandas-notebook/content/pandas%E4%B8%AD%E7%9A%84%E7%BB%98%E5%9B%BE%E5%87%BD%E6%95%B0.html)\n"
   ]
  },
  {
   "cell_type": "code",
   "execution_count": 4,
   "metadata": {
    "scrolled": false
   },
   "outputs": [
    {
     "name": "stdout",
     "output_type": "stream",
     "text": [
      "AMT_GOODS_PRICE\n",
      "count    3.072330e+05\n",
      "mean     5.383962e+05\n",
      "std      3.694465e+05\n",
      "min      4.050000e+04\n",
      "25%      2.385000e+05\n",
      "50%      4.500000e+05\n",
      "75%      6.795000e+05\n",
      "max      4.050000e+06\n",
      "Name: AMT_GOODS_PRICE, dtype: float64\n"
     ]
    },
    {
     "data": {
      "image/png": "[encoded data removed]",
      "text/plain": [
       "<Figure size 432x288 with 1 Axes>"
      ]
     },
     "metadata": {
      "needs_background": "light"
     },
     "output_type": "display_data"
    }
   ],
   "source": [
    "#for dtype, feature in zip(app_train.dtypes, app_train.columns):\n",
    "#    if dtype == 'int64' or dtype == 'float64':\n",
    "#        print(feature)\n",
    "#        print('Mean is equal to %f' %app_train[feature].mean())\n",
    "#        print('Standard deviation is equal to %f' %app_train[feature].std())\n",
    "#        app_train[feature].hist(edgecolor = \"black\", alpha = 0.7)\n",
    "#        break\n",
    "#        plt.ylabel(feature)\n",
    "\n",
    "\n",
    "def calculate(column_name):\n",
    "    if app_train[column_name].dtypes == 'int64' or app_train[column_name].dtypes == 'float64':\n",
    "        print(column_name)\n",
    "#        print('Mean is equal to %f' %app_train[column_name].mean())\n",
    "#        print('Standard deviation is equal to %f' %app_train[column_name].std())\n",
    "        print(app_train[column_name].describe())\n",
    "        app_train[column_name].hist(edgecolor = \"black\", alpha = 0.7)\n",
    "    else:\n",
    "        print(\"This column type is not int64 or float64\")\n",
    "\n",
    "calculate(\"AMT_GOODS_PRICE\")\n",
    "#calculate(\"AMT_INCOME_TOTAL\")\n",
    "        "
   ]
  }
 ],
 "metadata": {
  "kernelspec": {
   "display_name": "Python 3",
   "language": "python",
   "name": "python3"
  },
  "language_info": {
   "codemirror_mode": {
    "name": "ipython",
    "version": 3
   },
   "file_extension": ".py",
   "mimetype": "text/x-python",
   "name": "python",
   "nbconvert_exporter": "python",
   "pygments_lexer": "ipython3",
   "version": "3.7.3"
  }
 },
 "nbformat": 4,
 "nbformat_minor": 2
}
